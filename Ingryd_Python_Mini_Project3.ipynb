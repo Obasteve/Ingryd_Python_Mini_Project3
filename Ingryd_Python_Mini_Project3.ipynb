{
 "cells": [
  {
   "cell_type": "code",
   "execution_count": 4,
   "id": "583077b0",
   "metadata": {},
   "outputs": [
    {
     "data": {
      "text/plain": [
       "\" Imagine you're an air traffic controller during \\na busy day at the airport. Due to an emergency, some \\nflights need to make an emergency landing. Design a \\nsystem that prioritizes these emergency landings over \\nregular scheduled flights. Develop a program that \\ntakes flight details, including emergency status, and \\nmanages the landing queue efficiently.\""
      ]
     },
     "execution_count": 4,
     "metadata": {},
     "output_type": "execute_result"
    }
   ],
   "source": [
    "\"\"\" Imagine you're an air traffic controller during \n",
    "a busy day at the airport. Due to an emergency, some \n",
    "flights need to make an emergency landing. Design a \n",
    "system that prioritizes these emergency landings over \n",
    "regular scheduled flights. Develop a program that \n",
    "takes flight details, including emergency status, and \n",
    "manages the landing queue efficiently.\"\"\""
   ]
  },
  {
   "cell_type": "code",
   "execution_count": 1,
   "id": "7db1fc18",
   "metadata": {},
   "outputs": [
    {
     "name": "stdout",
     "output_type": "stream",
     "text": [
      "Landing CX789 (Emergency: True) at 10:30\n",
      "Landing AA123 (Emergency: True) at 10:00\n",
      "Landing BA456 (Emergency: False) at 10:15\n",
      "Landing DL101 (Emergency: False) at 10:45\n"
     ]
    }
   ],
   "source": [
    "class Flight:\n",
    "    def __init__(self, flight_number, arrival_time, emergency=False):\n",
    "        self.flight_number = flight_number\n",
    "        self.arrival_time = arrival_time\n",
    "        self.emergency = emergency\n",
    "\n",
    "class AirportQueue:\n",
    "    def __init__(self):\n",
    "        self.queue = []\n",
    "\n",
    "    def enqueue(self, flight):\n",
    "        # Place emergency flights at the front of the queue\n",
    "        if flight.emergency:\n",
    "            self.queue.insert(0, flight)\n",
    "        else:\n",
    "            self.queue.append(flight)\n",
    "\n",
    "    def dequeue(self):\n",
    "        if not self.is_empty():\n",
    "            return self.queue.pop(0)\n",
    "        else:\n",
    "            return None\n",
    "\n",
    "    def is_empty(self):\n",
    "        return len(self.queue) == 0\n",
    "\n",
    "def main():\n",
    "    airport_queue = AirportQueue()\n",
    "\n",
    "    # Add flights to the queue (with emergency status)\n",
    "    airport_queue.enqueue(Flight(\"AA123\", \"10:00\", True))\n",
    "    airport_queue.enqueue(Flight(\"BA456\", \"10:15\"))\n",
    "    airport_queue.enqueue(Flight(\"CX789\", \"10:30\", True))\n",
    "    airport_queue.enqueue(Flight(\"DL101\", \"10:45\"))\n",
    "\n",
    "    # Process flights in the queue\n",
    "    while not airport_queue.is_empty():\n",
    "        flight = airport_queue.dequeue()\n",
    "        print(f\"Landing {flight.flight_number} (Emergency: {flight.emergency}) at {flight.arrival_time}\")\n",
    "\n",
    "if __name__ == \"__main__\":\n",
    "    main()\n"
   ]
  },
  {
   "cell_type": "code",
   "execution_count": 2,
   "id": "20c58b07",
   "metadata": {},
   "outputs": [
    {
     "name": "stdout",
     "output_type": "stream",
     "text": [
      "File not found: student_essay.txt\n",
      "No plagiarism detected.\n"
     ]
    }
   ],
   "source": [
    "  import difflib\n",
    "\n",
    "def read_file(file_path):\n",
    "    try:\n",
    "        with open(file_path, 'r', encoding='utf-8') as file:\n",
    "            return file.read()\n",
    "    except FileNotFoundError:\n",
    "        print(f\"File not found: {file_path}\")\n",
    "        return None\n",
    "\n",
    "def detect_plagiarism(essay_path, reference_paths, threshold=0.8):\n",
    "    essay_text = read_file(essay_path)\n",
    "    if essay_text is None:\n",
    "        return\n",
    "\n",
    "    similar_sections = []\n",
    "\n",
    "    for ref_path in reference_paths:\n",
    "        ref_text = read_file(ref_path)\n",
    "        if ref_text is None:\n",
    "            continue\n",
    "\n",
    "        # Calculate text similarity using difflib's SequenceMatcher\n",
    "        similarity_ratio = difflib.SequenceMatcher(None, essay_text, ref_text).ratio()\n",
    "\n",
    "        if similarity_ratio >= threshold:\n",
    "            similar_sections.append((ref_path, similarity_ratio))\n",
    "\n",
    "    return similar_sections\n",
    "\n",
    "def main():\n",
    "    essay_path = 'student_essay.txt'\n",
    "    reference_paths = ['reference_1.txt', 'reference_2.txt', 'reference_3.txt']\n",
    "    plagiarism_threshold = 0.8\n",
    "\n",
    "    similar_sections = detect_plagiarism(essay_path, reference_paths, plagiarism_threshold)\n",
    "\n",
    "    if not similar_sections:\n",
    "        print(\"No plagiarism detected.\")\n",
    "    else:\n",
    "        print(\"Potential plagiarism detected:\")\n",
    "        for ref_path, similarity_ratio in similar_sections:\n",
    "            print(f\"Similarity with {ref_path}: {similarity_ratio:.2%}\")\n",
    "\n",
    "if __name__ == \"__main__\":\n",
    "    main()\n"
   ]
  },
  {
   "cell_type": "code",
   "execution_count": null,
   "id": "ea84e106",
   "metadata": {},
   "outputs": [],
   "source": [
    "   "
   ]
  }
 ],
 "metadata": {
  "kernelspec": {
   "display_name": "Python 3 (ipykernel)",
   "language": "python",
   "name": "python3"
  },
  "language_info": {
   "codemirror_mode": {
    "name": "ipython",
    "version": 3
   },
   "file_extension": ".py",
   "mimetype": "text/x-python",
   "name": "python",
   "nbconvert_exporter": "python",
   "pygments_lexer": "ipython3",
   "version": "3.9.12"
  }
 },
 "nbformat": 4,
 "nbformat_minor": 5
}
